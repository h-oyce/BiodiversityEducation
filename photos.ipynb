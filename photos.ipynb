{
 "cells": [
  {
   "cell_type": "code",
   "execution_count": 12,
   "id": "bd9e83c1-a0b5-4acf-9805-ef8ba3bb2d24",
   "metadata": {},
   "outputs": [
    {
     "name": "stdout",
     "output_type": "stream",
     "text": [
      "['26361091-9222-4e5b-a0eb-5635022993d8'\n",
      " '60f475d8-f998-426b-b409-1445de6f10b0'\n",
      " 'f43378bc-5c9e-4e7e-a61f-f9bb75ca2e3c' ...\n",
      " '2ff24b42-9700-4d90-86df-89bbbe7a352f'\n",
      " '195c59f5-f0f2-431e-9328-6cbdfce4fbbe'\n",
      " '37dea360-4a02-4749-8047-7de7322b8e52']\n"
     ]
    }
   ],
   "source": [
    "import pandas as pd\n",
    "import plotly.express as px\n",
    "import requests\n",
    "from bs4 import BeautifulSoup\n",
    "from os.path import basename\n",
    "from urllib.parse import urlparse\n",
    "import os\n",
    "\n",
    "mass_data = pd.read_csv(\"mass_data.csv\")\n",
    "mass_data.head()\n",
    "mass_data.columns\n",
    "\n",
    "id_array = mass_data['id'].values\n",
    "print(id_array)"
   ]
  },
  {
   "cell_type": "code",
   "execution_count": 16,
   "id": "5cb8f531-bd8c-4499-a09c-0c29947ac309",
   "metadata": {},
   "outputs": [
    {
     "name": "stdout",
     "output_type": "stream",
     "text": [
      "26361091-9222-4e5b-a0eb-5635022993d8\n",
      "Failed to retrieve image for ID 26361091-9222-4e5b-a0eb-5635022993d8, Status Code: 404\n",
      "60f475d8-f998-426b-b409-1445de6f10b0\n",
      "/data/60f475d8-f998-426b-b409-1445de6f10b0.jpg\n"
     ]
    },
    {
     "ename": "FileNotFoundError",
     "evalue": "[Errno 2] No such file or directory: '/data/60f475d8-f998-426b-b409-1445de6f10b0.jpg'",
     "output_type": "error",
     "traceback": [
      "\u001b[0;31m---------------------------------------------------------------------------\u001b[0m",
      "\u001b[0;31mFileNotFoundError\u001b[0m                         Traceback (most recent call last)",
      "Cell \u001b[0;32mIn[16], line 22\u001b[0m\n\u001b[1;32m     19\u001b[0m \u001b[38;5;28mprint\u001b[39m(file_path)\n\u001b[1;32m     21\u001b[0m \u001b[38;5;66;03m# Open the file in binary write mode and save the image\u001b[39;00m\n\u001b[0;32m---> 22\u001b[0m \u001b[38;5;28;01mwith\u001b[39;00m \u001b[38;5;28mopen\u001b[39m(file_path, \u001b[38;5;124m'\u001b[39m\u001b[38;5;124mwb\u001b[39m\u001b[38;5;124m'\u001b[39m) \u001b[38;5;28;01mas\u001b[39;00m img_file:\n\u001b[1;32m     23\u001b[0m     \u001b[38;5;28;01mfor\u001b[39;00m chunk \u001b[38;5;129;01min\u001b[39;00m response\u001b[38;5;241m.\u001b[39miter_content(\u001b[38;5;241m1024\u001b[39m):\n\u001b[1;32m     24\u001b[0m         img_file\u001b[38;5;241m.\u001b[39mwrite(chunk)\n",
      "File \u001b[0;32m~/anaconda3/lib/python3.11/site-packages/IPython/core/interactiveshell.py:286\u001b[0m, in \u001b[0;36m_modified_open\u001b[0;34m(file, *args, **kwargs)\u001b[0m\n\u001b[1;32m    279\u001b[0m \u001b[38;5;28;01mif\u001b[39;00m file \u001b[38;5;129;01min\u001b[39;00m {\u001b[38;5;241m0\u001b[39m, \u001b[38;5;241m1\u001b[39m, \u001b[38;5;241m2\u001b[39m}:\n\u001b[1;32m    280\u001b[0m     \u001b[38;5;28;01mraise\u001b[39;00m \u001b[38;5;167;01mValueError\u001b[39;00m(\n\u001b[1;32m    281\u001b[0m         \u001b[38;5;124mf\u001b[39m\u001b[38;5;124m\"\u001b[39m\u001b[38;5;124mIPython won\u001b[39m\u001b[38;5;124m'\u001b[39m\u001b[38;5;124mt let you open fd=\u001b[39m\u001b[38;5;132;01m{\u001b[39;00mfile\u001b[38;5;132;01m}\u001b[39;00m\u001b[38;5;124m by default \u001b[39m\u001b[38;5;124m\"\u001b[39m\n\u001b[1;32m    282\u001b[0m         \u001b[38;5;124m\"\u001b[39m\u001b[38;5;124mas it is likely to crash IPython. If you know what you are doing, \u001b[39m\u001b[38;5;124m\"\u001b[39m\n\u001b[1;32m    283\u001b[0m         \u001b[38;5;124m\"\u001b[39m\u001b[38;5;124myou can use builtins\u001b[39m\u001b[38;5;124m'\u001b[39m\u001b[38;5;124m open.\u001b[39m\u001b[38;5;124m\"\u001b[39m\n\u001b[1;32m    284\u001b[0m     )\n\u001b[0;32m--> 286\u001b[0m \u001b[38;5;28;01mreturn\u001b[39;00m io_open(file, \u001b[38;5;241m*\u001b[39margs, \u001b[38;5;241m*\u001b[39m\u001b[38;5;241m*\u001b[39mkwargs)\n",
      "\u001b[0;31mFileNotFoundError\u001b[0m: [Errno 2] No such file or directory: '/data/60f475d8-f998-426b-b409-1445de6f10b0.jpg'"
     ]
    }
   ],
   "source": [
    "save_dir = \"/data\"\n",
    "\n",
    "for id in id_array:\n",
    "    print(id)\n",
    "    url = \"https://data.huh.harvard.edu/\" + id + \"/thumb\"\n",
    "    \n",
    "    # get request + request all images\n",
    "    #req = requests.get(url).content\n",
    "\n",
    "    \n",
    "    try:\n",
    "        # Send a GET request to fetch the image\n",
    "        response = requests.get(url, stream=True)\n",
    "        \n",
    "        # Check if the request was successful\n",
    "        if response.status_code == 200:\n",
    "            # Construct the file path for saving the image\n",
    "            file_path = os.path.join(save_dir, f\"{id}.jpg\")\n",
    "            print(file_path)\n",
    "            \n",
    "            # Open the file in binary write mode and save the image\n",
    "            with open(file_path, 'wb') as img_file:\n",
    "                for chunk in response.iter_content(1024):\n",
    "                    img_file.write(chunk)\n",
    "            print(f\"Image {id} saved successfully.\")\n",
    "        else:\n",
    "            print(f\"Failed to retrieve image for ID {id}, Status Code: {response.status_code}\")\n",
    "    \n",
    "    except requests.exceptions.RequestException as e:\n",
    "        print(f\"An error occurred while fetching image for ID {id}: {e}\")\n",
    "        \n",
    "    "
   ]
  },
  {
   "cell_type": "code",
   "execution_count": null,
   "id": "b15d02a6-7033-4986-868c-2a633ca1b12d",
   "metadata": {},
   "outputs": [],
   "source": []
  },
  {
   "cell_type": "code",
   "execution_count": null,
   "id": "337fcdfc-57ff-40d2-8037-6dd010633d19",
   "metadata": {},
   "outputs": [],
   "source": []
  }
 ],
 "metadata": {
  "kernelspec": {
   "display_name": "Python 3 (ipykernel)",
   "language": "python",
   "name": "python3"
  },
  "language_info": {
   "codemirror_mode": {
    "name": "ipython",
    "version": 3
   },
   "file_extension": ".py",
   "mimetype": "text/x-python",
   "name": "python",
   "nbconvert_exporter": "python",
   "pygments_lexer": "ipython3",
   "version": "3.11.5"
  }
 },
 "nbformat": 4,
 "nbformat_minor": 5
}
