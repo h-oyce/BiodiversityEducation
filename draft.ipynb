{
 "cells": [
  {
   "cell_type": "code",
   "execution_count": 16,
   "metadata": {},
   "outputs": [],
   "source": [
    "import pandas as pd\n",
    "import plotly.express as px"
   ]
  },
  {
   "cell_type": "code",
   "execution_count": null,
   "metadata": {},
   "outputs": [
    {
     "ename": "SyntaxError",
     "evalue": "invalid syntax. Perhaps you forgot a comma? (2139270814.py, line 5)",
     "output_type": "error",
     "traceback": [
      "\u001b[0;36m  Cell \u001b[0;32mIn[48], line 5\u001b[0;36m\u001b[0m\n\u001b[0;31m    filter_column = [\tid\ttype\tmodified\tlanguage\tlicense\trightsHolder\taccessRights\treferences\tinstitutionID\tcollectionID\tdatasetID\tinstitutionCode\tcollectionCode\tdataGeneralizations\tdynamicProperties\toccurrenceID\tcatalogNumber\toccurrenceRemarks\trecordNumber\trecordedBy\treproductiveCondition\tpreparations\teventDate\tyear\tmonth\tday\tverbatimEventDate\thabitat\tfieldNumber\tisland\tcounty\tmunicipality\tlocality\tverbatimLocality\tverbatimElevation\tminimumElevationInMeters\tmaximumElevationInMeters\tlocationRemarks\tdecimalLatitude\tdecimalLongitude\tgeodeticDatum\tcoordinateUncertaintyInMeters\tidentifiedBy\tdateIdentified\tidentificationRemarks\ttypeStatus\tscientificName\tfamily\tgenus\tspecificEpithet\tinfraspecificEpithet\tscientificNameAuthorship]\u001b[0m\n\u001b[0m                     \t^\u001b[0m\n\u001b[0;31mSyntaxError\u001b[0m\u001b[0;31m:\u001b[0m invalid syntax. Perhaps you forgot a comma?\n"
     ]
    }
   ],
   "source": [
    "# Data Cleaning\n",
    "mass_data = pd.read_csv(\"mass_data.csv\")\n",
    "mass_data.head()\n",
    "mass_data.columns\n",
    "\n",
    "filter_column = [\"id\", \"type\", \"modified\"\t\"language\"\t\"license\"\t\"rightsHolder\"\taccessRights\treferences\tinstitutionID\tcollectionID\tdatasetID\tinstitutionCode\tcollectionCode\tdataGeneralizations\tdynamicProperties\toccurrenceID\tcatalogNumber\toccurrenceRemarks\trecordNumber\trecordedBy\treproductiveCondition\tpreparations\teventDate\tyear\tmonth\tday\tverbatimEventDate\thabitat\tfieldNumber\tisland\tcounty\tmunicipality\tlocality\tverbatimLocality\tverbatimElevation\tminimumElevationInMeters\tmaximumElevationInMeters\tlocationRemarks\tdecimalLatitude\tdecimalLongitude\tgeodeticDatum\tcoordinateUncertaintyInMeters\tidentifiedBy\tdateIdentified\tidentificationRemarks\ttypeStatus\tscientificName\tfamily\tgenus\tspecificEpithet\tinfraspecificEpithet\tscientificNameAuthorship]"
   ]
  },
  {
   "cell_type": "code",
   "execution_count": null,
   "metadata": {},
   "outputs": [
    {
     "ename": "TypeError",
     "evalue": "choropleth_mapbox() got an unexpected keyword argument 'lat'",
     "output_type": "error",
     "traceback": [
      "\u001b[0;31m---------------------------------------------------------------------------\u001b[0m",
      "\u001b[0;31mTypeError\u001b[0m                                 Traceback (most recent call last)",
      "Cell \u001b[0;32mIn[38], line 1\u001b[0m\n\u001b[0;32m----> 1\u001b[0m fig \u001b[38;5;241m=\u001b[39m px\u001b[38;5;241m.\u001b[39mchoropleth_mapbox(\n\u001b[1;32m      2\u001b[0m     mass_data,\n\u001b[1;32m      3\u001b[0m     lat\u001b[38;5;241m=\u001b[39m\u001b[38;5;124m\"\u001b[39m\u001b[38;5;124mdecimalLatitude\u001b[39m\u001b[38;5;124m\"\u001b[39m,\n\u001b[1;32m      4\u001b[0m     lon\u001b[38;5;241m=\u001b[39m\u001b[38;5;124m\"\u001b[39m\u001b[38;5;124mdecimalLongitude\u001b[39m\u001b[38;5;124m\"\u001b[39m,\n\u001b[1;32m      5\u001b[0m     zoom\u001b[38;5;241m=\u001b[39m\u001b[38;5;241m8\u001b[39m,\n\u001b[1;32m      6\u001b[0m     height\u001b[38;5;241m=\u001b[39m\u001b[38;5;241m300\u001b[39m\n\u001b[1;32m      7\u001b[0m )\n\u001b[1;32m      8\u001b[0m fig\u001b[38;5;241m.\u001b[39mupdate_layout(mapbox_style\u001b[38;5;241m=\u001b[39m\u001b[38;5;124m\"\u001b[39m\u001b[38;5;124mopen-street-map\u001b[39m\u001b[38;5;124m\"\u001b[39m)\n\u001b[1;32m      9\u001b[0m fig\u001b[38;5;241m.\u001b[39mupdate_layout(margin\u001b[38;5;241m=\u001b[39m{\u001b[38;5;124m\"\u001b[39m\u001b[38;5;124mr\u001b[39m\u001b[38;5;124m\"\u001b[39m:\u001b[38;5;241m0\u001b[39m,\u001b[38;5;124m\"\u001b[39m\u001b[38;5;124mt\u001b[39m\u001b[38;5;124m\"\u001b[39m:\u001b[38;5;241m0\u001b[39m,\u001b[38;5;124m\"\u001b[39m\u001b[38;5;124ml\u001b[39m\u001b[38;5;124m\"\u001b[39m:\u001b[38;5;241m0\u001b[39m,\u001b[38;5;124m\"\u001b[39m\u001b[38;5;124mb\u001b[39m\u001b[38;5;124m\"\u001b[39m:\u001b[38;5;241m0\u001b[39m})\n",
      "\u001b[0;31mTypeError\u001b[0m: choropleth_mapbox() got an unexpected keyword argument 'lat'"
     ]
    }
   ],
   "source": [
    "# Initial Map\n",
    "fig = px.scatter_mapbox(\n",
    "    mass_data,\n",
    "    lat=\"decimalLatitude\",\n",
    "    lon=\"decimalLongitude\",\n",
    "    zoom=8,\n",
    "    height=300\n",
    ")\n",
    "fig.update_layout(mapbox_style=\"open-street-map\")\n",
    "fig.update_layout(margin={\"r\":0,\"t\":0,\"l\":0,\"b\":0})\n",
    "fig.show()\n"
   ]
  },
  {
   "cell_type": "code",
   "execution_count": null,
   "metadata": {},
   "outputs": [
    {
     "data": {
      "text/html": [
       "\n",
       "        <iframe\n",
       "            width=\"100%\"\n",
       "            height=\"650\"\n",
       "            src=\"http://127.0.0.1:8050/\"\n",
       "            frameborder=\"0\"\n",
       "            allowfullscreen\n",
       "            \n",
       "        ></iframe>\n",
       "        "
      ],
      "text/plain": [
       "<IPython.lib.display.IFrame at 0x300cd0250>"
      ]
     },
     "metadata": {},
     "output_type": "display_data"
    }
   ],
   "source": [
    "# Dash Version\n",
    "from dash import Dash, html, dcc, callback, Output, Input\n",
    "import plotly.express as px\n",
    "import pandas as pd\n",
    "\n",
    "app = Dash()\n",
    "\n",
    "app.layout = html.Div([\n",
    "    html.H1(children='MA Data', style={'textAlign': 'center'}),\n",
    "    dcc.Dropdown(\n",
    "        options=[{'label': county, 'value': county} for county in mass_data['county'].unique()],\n",
    "        value='Hampshire County',\n",
    "        id='dropdown-selection'\n",
    "    ),\n",
    "    dcc.Graph(id='graph-content')\n",
    "])\n",
    "\n",
    "@callback(\n",
    "    Output('graph-content', 'figure'),\n",
    "    Input('dropdown-selection', 'value')\n",
    ")\n",
    "def update_graph(selected_county):\n",
    "    # Filter data based on the selected county\n",
    "    df = mass_data[mass_data['county'] == selected_county]\n",
    "    \n",
    "    # Create the scatter mapbox using the filtered dataframe\n",
    "    fig = px.scatter_mapbox(\n",
    "        df,\n",
    "        lat=\"decimalLatitude\",\n",
    "        lon=\"decimalLongitude\",\n",
    "        zoom=7,\n",
    "        height=500\n",
    "    )\n",
    "    \n",
    "    # Set map style (using open-street-map, no token required)\n",
    "    fig.update_layout(mapbox_style=\"open-street-map\")\n",
    "    \n",
    "    return fig\n",
    "\n",
    "if __name__ == '__main__':\n",
    "    app.run(debug=True)\n"
   ]
  },
  {
   "cell_type": "code",
   "execution_count": null,
   "metadata": {},
   "outputs": [],
   "source": []
  }
 ],
 "metadata": {
  "kernelspec": {
   "display_name": "base",
   "language": "python",
   "name": "python3"
  },
  "language_info": {
   "codemirror_mode": {
    "name": "ipython",
    "version": 3
   },
   "file_extension": ".py",
   "mimetype": "text/x-python",
   "name": "python",
   "nbconvert_exporter": "python",
   "pygments_lexer": "ipython3",
   "version": "3.11.5"
  }
 },
 "nbformat": 4,
 "nbformat_minor": 2
}
